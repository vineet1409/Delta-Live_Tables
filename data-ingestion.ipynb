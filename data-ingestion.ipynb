{
 "cells": [
  {
   "cell_type": "code",
   "execution_count": 0,
   "metadata": {
    "application/vnd.databricks.v1+cell": {
     "cellMetadata": {
      "byteLimit": 2048000,
      "rowLimit": 10000
     },
     "inputWidgets": {},
     "nuid": "96e16ba5-88e1-4f62-b036-e6204aaaf125",
     "showTitle": false,
     "title": ""
    }
   },
   "outputs": [
    {
     "output_type": "stream",
     "name": "stdout",
     "output_type": "stream",
     "text": [
      "Out[23]: True"
     ]
    }
   ],
   "source": [
    "'''storage_account_name = \"sadeltalivetables\"\n",
    "storage_account_key = \"waOLVfBYqn9Chedmt9FTwc92yJhkmf+uAY60NloFYuB9hlkxRw01Nq58ZzsFu8WjTiBn+TwMmLP7+AStDMLHVA==\"\n",
    "container_name = \"dlt\"\n",
    "mount_point = \"/mnt/input\"\n",
    "\n",
    "configs = {\n",
    "    \"fs.azure.account.key.{0}.blob.core.windows.net\".format(storage_account_name): storage_account_key\n",
    "}\n",
    "\n",
    "dbutils.fs.mount(\n",
    "    source=\"wasbs://{0}@{1}.blob.core.windows.net\".format(container_name, storage_account_name),\n",
    "    mount_point=mount_point,\n",
    "    extra_configs=configs\n",
    ")'''"
   ]
  },
  {
   "cell_type": "code",
   "execution_count": 0,
   "metadata": {
    "application/vnd.databricks.v1+cell": {
     "cellMetadata": {
      "byteLimit": 2048000,
      "rowLimit": 10000
     },
     "inputWidgets": {},
     "nuid": "cf2b8edd-0522-43b3-a4e5-d599160a69d4",
     "showTitle": false,
     "title": ""
    }
   },
   "outputs": [
    {
     "output_type": "stream",
     "name": "stdout",
     "output_type": "stream",
     "text": [
      "+---+----+-----+\n|_c0|text|class|\n+---+----+-----+\n|  0|   0|    0|\n+---+----+-----+\n\n"
     ]
    }
   ],
   "source": [
    "from pyspark.sql.functions import col, count, isnull, when\n",
    "file_path = \"/mnt/input/data/hidden_data_37680_records.csv\"\n",
    "\n",
    "# Read the CSV file into a Spark DataFrame\n",
    "spark_df = spark.read.csv(file_path, header=True, inferSchema=True)\n",
    "# Replace empty strings with null values\n",
    "spark_df = spark_df.fillna(\"\", subset=spark_df.columns)\n",
    "\n",
    "# Check for null values in the DataFrame\n",
    "spark_df.select([count(when(isnull(col), col)).alias(col) for col in spark_df.columns]).show()"
   ]
  },
  {
   "cell_type": "code",
   "execution_count": 0,
   "metadata": {
    "application/vnd.databricks.v1+cell": {
     "cellMetadata": {
      "byteLimit": 2048000,
      "rowLimit": 10000
     },
     "inputWidgets": {},
     "nuid": "a4bbcd2c-f312-4345-b4c5-3b4b7b948d05",
     "showTitle": false,
     "title": ""
    }
   },
   "outputs": [
    {
     "output_type": "stream",
     "name": "stdout",
     "output_type": "stream",
     "text": [
      "+--------------------+--------------------+--------------------+\n|                 _c0|                text|               class|\n+--------------------+--------------------+--------------------+\n|                   0|To be with him.Hi...|             suicide|\n|                   1|Teenagers of Redd...|                    |\n|Potentially manda...| as already I bel...| as short a while...|\n|The main reason f...| which is a mista...| there are things...|\n|Are you happy? Wh...|         non-suicide|                    |\n+--------------------+--------------------+--------------------+\nonly showing top 5 rows\n\n"
     ]
    }
   ],
   "source": [
    "spark_df.show(5)"
   ]
  },
  {
   "cell_type": "code",
   "execution_count": 0,
   "metadata": {
    "application/vnd.databricks.v1+cell": {
     "cellMetadata": {
      "byteLimit": 2048000,
      "rowLimit": 10000
     },
     "inputWidgets": {},
     "nuid": "848ec354-7f02-4477-9255-87340b3ea145",
     "showTitle": false,
     "title": ""
    }
   },
   "outputs": [
    {
     "output_type": "stream",
     "name": "stdout",
     "output_type": "stream",
     "text": [
      "+--------------------+--------------------+\n|                text|               class|\n+--------------------+--------------------+\n|To be with him.Hi...|             suicide|\n|Teenagers of Redd...|                    |\n| as already I bel...| as short a while...|\n| which is a mista...| there are things...|\n|         non-suicide|                    |\n|I asked someone w...|         non-suicide|\n|I am about to sle...|         non-suicide|\n|Happy birthday to...|         non-suicide|\n|I want to die so ...|             suicide|\n|Last rent, I'm do...|                    |\n|                    |                    |\n| I'm a fat ugly p...|                    |\n| to get better bu...| can't risk to pa...|\n|                    |                    |\n|                    |                    |\n|                    |                    |\n| note for potenti...| no one other nee...|\n|                    |                    |\n|             suicide|                    |\n|Well boys i may b...|         non-suicide|\n+--------------------+--------------------+\nonly showing top 20 rows\n\n"
     ]
    }
   ],
   "source": [
    "spark_df = spark_df.select(\"text\", \"class\")\n",
    "spark_df.show()"
   ]
  },
  {
   "cell_type": "code",
   "execution_count": 0,
   "metadata": {
    "application/vnd.databricks.v1+cell": {
     "cellMetadata": {
      "byteLimit": 2048000,
      "rowLimit": 10000
     },
     "inputWidgets": {},
     "nuid": "3b477439-6fc4-4d3e-bfa4-0f0e1d567f6d",
     "showTitle": false,
     "title": ""
    }
   },
   "outputs": [],
   "source": [
    "%python\n",
    "spark_df.createOrReplaceTempView(\"mentalhealthraw\")"
   ]
  },
  {
   "cell_type": "code",
   "execution_count": 0,
   "metadata": {
    "application/vnd.databricks.v1+cell": {
     "cellMetadata": {
      "byteLimit": 2048000,
      "implicitDf": true,
      "rowLimit": 10000
     },
     "inputWidgets": {},
     "nuid": "f5e09f29-fa7f-4ae8-af3c-453fc3fef47b",
     "showTitle": false,
     "title": ""
    }
   },
   "outputs": [
    {
     "output_type": "display_data",
     "data": {
      "text/html": [
       "<style scoped>\n",
       "  .table-result-container {\n",
       "    max-height: 300px;\n",
       "    overflow: auto;\n",
       "  }\n",
       "  table, th, td {\n",
       "    border: 1px solid black;\n",
       "    border-collapse: collapse;\n",
       "  }\n",
       "  th, td {\n",
       "    padding: 5px;\n",
       "  }\n",
       "  th {\n",
       "    text-align: left;\n",
       "  }\n",
       "</style><div class='table-result-container'><table class='table-result'><thead style='background-color: white'><tr><th>count(1)</th></tr></thead><tbody><tr><td>9115</td></tr></tbody></table></div>"
      ]
     },
     "metadata": {
      "application/vnd.databricks.v1+output": {
       "addedWidgets": {},
       "aggData": [],
       "aggError": "",
       "aggOverflow": false,
       "aggSchema": [],
       "aggSeriesLimitReached": false,
       "aggType": "",
       "arguments": {},
       "columnCustomDisplayInfos": {},
       "data": [
        [
         9115
        ]
       ],
       "datasetInfos": [],
       "dbfsResultPath": null,
       "isJsonSchema": true,
       "metadata": {},
       "overflow": false,
       "plotOptions": {
        "customPlotOptions": {},
        "displayType": "table",
        "pivotAggregation": null,
        "pivotColumns": null,
        "xColumns": null,
        "yColumns": null
       },
       "removedWidgets": [],
       "schema": [
        {
         "metadata": "{\"__autoGeneratedAlias\":\"true\"}",
         "name": "count(1)",
         "type": "\"long\""
        }
       ],
       "type": "table"
      }
     },
     "output_type": "display_data"
    }
   ],
   "source": [
    "%sql\n",
    "SELECT count(*) FROM mentalhealthraw WHERE class = 'suicide'"
   ]
  },
  {
   "cell_type": "code",
   "execution_count": 0,
   "metadata": {
    "application/vnd.databricks.v1+cell": {
     "cellMetadata": {
      "byteLimit": 2048000,
      "rowLimit": 10000
     },
     "inputWidgets": {},
     "nuid": "79988ce4-7740-439d-8475-9b720b9da984",
     "showTitle": false,
     "title": ""
    }
   },
   "outputs": [],
   "source": [
    "# create a permanent table\n",
    "spark_df.write.format(\"parquet\").saveAsTable(\"mentalhealth\")"
   ]
  },
  {
   "cell_type": "code",
   "execution_count": 0,
   "metadata": {
    "application/vnd.databricks.v1+cell": {
     "cellMetadata": {
      "byteLimit": 2048000,
      "implicitDf": true,
      "rowLimit": 10000
     },
     "inputWidgets": {},
     "nuid": "6daa656a-aa61-4259-a48f-8a11db54a639",
     "showTitle": false,
     "title": ""
    }
   },
   "outputs": [
    {
     "output_type": "display_data",
     "data": {
      "text/html": [
       "<style scoped>\n",
       "  .table-result-container {\n",
       "    max-height: 300px;\n",
       "    overflow: auto;\n",
       "  }\n",
       "  table, th, td {\n",
       "    border: 1px solid black;\n",
       "    border-collapse: collapse;\n",
       "  }\n",
       "  th, td {\n",
       "    padding: 5px;\n",
       "  }\n",
       "  th {\n",
       "    text-align: left;\n",
       "  }\n",
       "</style><div class='table-result-container'><table class='table-result'><thead style='background-color: white'><tr><th>count(1)</th></tr></thead><tbody><tr><td>9115</td></tr></tbody></table></div>"
      ]
     },
     "metadata": {
      "application/vnd.databricks.v1+output": {
       "addedWidgets": {},
       "aggData": [],
       "aggError": "",
       "aggOverflow": false,
       "aggSchema": [],
       "aggSeriesLimitReached": false,
       "aggType": "",
       "arguments": {},
       "columnCustomDisplayInfos": {},
       "data": [
        [
         9115
        ]
       ],
       "datasetInfos": [],
       "dbfsResultPath": null,
       "isJsonSchema": true,
       "metadata": {},
       "overflow": false,
       "plotOptions": {
        "customPlotOptions": {},
        "displayType": "table",
        "pivotAggregation": null,
        "pivotColumns": null,
        "xColumns": null,
        "yColumns": null
       },
       "removedWidgets": [],
       "schema": [
        {
         "metadata": "{\"__autoGeneratedAlias\":\"true\"}",
         "name": "count(1)",
         "type": "\"long\""
        }
       ],
       "type": "table"
      }
     },
     "output_type": "display_data"
    }
   ],
   "source": [
    "%sql\n",
    "SELECT count(*) FROM mentalhealth WHERE class = 'suicide'"
   ]
  }
 ],
 "metadata": {
  "application/vnd.databricks.v1+notebook": {
   "dashboards": [
    {
     "elements": [],
     "globalVars": {},
     "guid": "5842d502-968f-4645-ab12-a2344bf4e37b",
     "layoutOption": {
      "grid": true,
      "stack": true
     },
     "nuid": "84ddb8c2-70e2-4360-a0ac-2c45fb0fb8de",
     "origId": 3553697836484086,
     "title": "Untitled",
     "version": "DashboardViewV1",
     "width": 1024
    }
   ],
   "language": "python",
   "notebookMetadata": {
    "mostRecentlyExecutedCommandWithImplicitDF": {
     "commandId": 3553697836484084,
     "dataframes": [
      "_sqldf"
     ]
    },
    "pythonIndentUnit": 4
   },
   "notebookName": "data-ingestion",
   "widgets": {}
  }
 },
 "nbformat": 4,
 "nbformat_minor": 0
}
