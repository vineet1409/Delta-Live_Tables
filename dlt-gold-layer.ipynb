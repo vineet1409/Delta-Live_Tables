{
 "cells": [
  {
   "cell_type": "code",
   "execution_count": 0,
   "metadata": {
    "application/vnd.databricks.v1+cell": {
     "cellMetadata": {},
     "inputWidgets": {},
     "nuid": "421e401a-1b29-4c75-8233-674e28225fd3",
     "showTitle": false,
     "title": ""
    }
   },
   "outputs": [],
   "source": [
    "! pip install dlt"
   ]
  },
  {
   "cell_type": "code",
   "execution_count": 0,
   "metadata": {
    "application/vnd.databricks.v1+cell": {
     "cellMetadata": {
      "byteLimit": 2048000,
      "rowLimit": 10000
     },
     "inputWidgets": {},
     "nuid": "e0182efd-83d0-40ea-8180-30d43e27e9b4",
     "showTitle": false,
     "title": ""
    }
   },
   "outputs": [],
   "source": [
    "# Gold Layer\n",
    "import dlt\n",
    "\n",
    "@dlt.table(\n",
    "comment=\"Gold Layer DLT\"\n",
    ")\n",
    "def gold_layer():\n",
    "    df1 = dlt.read('albert_silver_layer')\n",
    "    df2 = dlt.read('clinicalbert_silver_layer')\n",
    "\n",
    "    spark_df_gold= df1.drop(\"class\").join(df2.drop(\"class\"), on=[\"text\"], how=\"inner\")\n",
    "    return spark_df_gold\n",
    "\n"
   ]
  },
  {
   "cell_type": "code",
   "execution_count": 0,
   "metadata": {
    "application/vnd.databricks.v1+cell": {
     "cellMetadata": {},
     "inputWidgets": {},
     "nuid": "85d56a7c-9481-4944-bdff-8584c47f454a",
     "showTitle": false,
     "title": ""
    }
   },
   "outputs": [],
   "source": []
  }
 ],
 "metadata": {
  "application/vnd.databricks.v1+notebook": {
   "dashboards": [],
   "language": "python",
   "notebookMetadata": {
    "pythonIndentUnit": 4
   },
   "notebookName": "dlt-gold-layer",
   "widgets": {}
  }
 },
 "nbformat": 4,
 "nbformat_minor": 0
}
